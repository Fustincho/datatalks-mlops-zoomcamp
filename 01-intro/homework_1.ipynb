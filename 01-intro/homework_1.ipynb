{
 "cells": [
  {
   "cell_type": "code",
   "execution_count": 1,
   "metadata": {},
   "outputs": [],
   "source": [
    "import pandas as pd\n",
    "import numpy as np\n",
    "pd.set_option('display.float_format', '{:.10f}'.format)"
   ]
  },
  {
   "cell_type": "code",
   "execution_count": 2,
   "metadata": {},
   "outputs": [],
   "source": [
    "import pickle"
   ]
  },
  {
   "cell_type": "code",
   "execution_count": 3,
   "metadata": {},
   "outputs": [],
   "source": [
    "import plotnine as plt"
   ]
  },
  {
   "cell_type": "code",
   "execution_count": 4,
   "metadata": {},
   "outputs": [],
   "source": [
    "from sklearn.feature_extraction import DictVectorizer\n",
    "from sklearn.linear_model import LinearRegression\n",
    "from sklearn.linear_model import Lasso\n",
    "from sklearn.linear_model import Ridge\n",
    "\n",
    "from sklearn.metrics import root_mean_squared_error"
   ]
  },
  {
   "cell_type": "markdown",
   "metadata": {},
   "source": [
    "## Data Dictionary\n",
    "\n",
    "| Field Name             | Description                                                         |\n",
    "|------------------------|---------------------------------------------------------------------|\n",
    "| VendorID               | A code indicating the TPEP provider that provided the record.<br>1= Creative Mobile Technologies, LLC; 2= VeriFone Inc.                                                                                      |\n",
    "| tpep_pickup_datetime   | The date and time when the meter was engaged.                                                                                                                                                               |\n",
    "| tpep_dropoff_datetime  | The date and time when the meter was disengaged.                                                                                                                                                            |\n",
    "| Passenger_count        | The number of passengers in the vehicle.<br>This is a driver-entered value.                                                                                                                                  |\n",
    "| Trip_distance          | The elapsed trip distance in miles reported by the taximeter.                                                                                                                                               |\n",
    "| PULocationID           | TLC Taxi Zone in which the taximeter was engaged.                                                                                                                                                           |\n",
    "| DOLocationID           | TLC Taxi Zone in which the taximeter was disengaged.                                                                                                                                                        |\n",
    "| RateCodeID             | The final rate code in effect at the end of the trip.<br>1= Standard rate<br>2= JFK<br>3= Newark<br>4= Nassau or Westchester<br>5= Negotiated fare<br>6= Group ride                                          |\n",
    "| Store_and_fwd_flag     | This flag indicates whether the trip record was held in vehicle memory before sending to the vendor,<br>aka “store and forward,” because the vehicle did not have a connection to the server.<br>Y= store and forward trip<br>N= not a store and forward trip |\n",
    "| Payment_type           | A numeric code signifying how the passenger paid for the trip.<br>1= Credit card<br>2= Cash<br>3= No charge<br>4= Dispute<br>5= Unknown<br>6= Voided trip                                                    |\n",
    "| Fare_amount            | The time-and-distance fare calculated by the meter.                                                                                                                                                         |\n",
    "| Extra                  | Miscellaneous extras and surcharges. Currently, this only includes the \\\\$0.50 and \\\\$1 rush hour and overnight charges.                                                                                         |\n",
    "| MTA_tax                | \\\\$0.50 MTA tax that is automatically triggered based on the metered rate in use.                                                                                                                              |\n",
    "| Improvement_surcharge  | \\\\$0.30 improvement surcharge assessed trips at the flag drop. The improvement surcharge began being levied in 2015.                                                                                          |\n",
    "| Tip_amount             | Tip amount – This field is automatically populated for credit card tips. Cash tips are not included.                                                                                                        |\n",
    "| Tolls_amount           | Total amount of all tolls paid in trip.                                                                                                                                                                     |\n",
    "| Total_amount           | The total amount charged to passengers. Does not include cash tips.                                                                                                                                         |\n",
    "| Congestion_Surcharge   | Total amount collected in trip for NYS congestion surcharge.                                                                                                                                                |\n",
    "| Airport_fee            | \\\\$1.25 for pick up only at LaGuardia and John F. Kennedy Airports. |\n",
    "\n",
    "Source: [NYC TLC Trip Record Data](https://www.nyc.gov/assets/tlc/downloads/pdf/data_dictionary_trip_records_yellow.pdf)"
   ]
  },
  {
   "cell_type": "code",
   "execution_count": 5,
   "metadata": {},
   "outputs": [],
   "source": [
    "jan_data = pd.read_parquet('./data/yellow_tripdata_2023-01.parquet')\n",
    "feb_data = pd.read_parquet('./data/yellow_tripdata_2023-02.parquet')"
   ]
  },
  {
   "cell_type": "code",
   "execution_count": 6,
   "metadata": {},
   "outputs": [],
   "source": [
    "# January data's 'Airport_fee' column is written as 'airport_fee'\n",
    "jan_data.rename(columns={'airport_fee': 'Airport_fee'}, inplace=True)"
   ]
  },
  {
   "cell_type": "code",
   "execution_count": 7,
   "metadata": {},
   "outputs": [
    {
     "name": "stdout",
     "output_type": "stream",
     "text": [
      "Q1 Answer: there are 19 columns in the dataset\n"
     ]
    }
   ],
   "source": [
    "print(f'Q1 Answer: there are {len(jan_data.columns)} columns in the dataset')"
   ]
  },
  {
   "cell_type": "code",
   "execution_count": 8,
   "metadata": {},
   "outputs": [],
   "source": [
    "jan_data['dataset'] = \"January\"\n",
    "feb_data['dataset'] = \"February\"\n",
    "\n",
    "data = pd.concat([jan_data, feb_data], axis=0, ignore_index=True)"
   ]
  },
  {
   "cell_type": "code",
   "execution_count": 9,
   "metadata": {},
   "outputs": [
    {
     "data": {
      "text/html": [
       "<div>\n",
       "<style scoped>\n",
       "    .dataframe tbody tr th:only-of-type {\n",
       "        vertical-align: middle;\n",
       "    }\n",
       "\n",
       "    .dataframe tbody tr th {\n",
       "        vertical-align: top;\n",
       "    }\n",
       "\n",
       "    .dataframe thead th {\n",
       "        text-align: right;\n",
       "    }\n",
       "</style>\n",
       "<table border=\"1\" class=\"dataframe\">\n",
       "  <thead>\n",
       "    <tr style=\"text-align: right;\">\n",
       "      <th></th>\n",
       "      <th>VendorID</th>\n",
       "      <th>tpep_pickup_datetime</th>\n",
       "      <th>tpep_dropoff_datetime</th>\n",
       "      <th>passenger_count</th>\n",
       "      <th>trip_distance</th>\n",
       "      <th>RatecodeID</th>\n",
       "      <th>store_and_fwd_flag</th>\n",
       "      <th>PULocationID</th>\n",
       "      <th>DOLocationID</th>\n",
       "      <th>payment_type</th>\n",
       "      <th>fare_amount</th>\n",
       "      <th>extra</th>\n",
       "      <th>mta_tax</th>\n",
       "      <th>tip_amount</th>\n",
       "      <th>tolls_amount</th>\n",
       "      <th>improvement_surcharge</th>\n",
       "      <th>total_amount</th>\n",
       "      <th>congestion_surcharge</th>\n",
       "      <th>Airport_fee</th>\n",
       "      <th>dataset</th>\n",
       "    </tr>\n",
       "  </thead>\n",
       "  <tbody>\n",
       "    <tr>\n",
       "      <th>0</th>\n",
       "      <td>2.0000000000</td>\n",
       "      <td>2023-01-01 00:32:10</td>\n",
       "      <td>2023-01-01 00:40:36</td>\n",
       "      <td>1.0000000000</td>\n",
       "      <td>0.9700000000</td>\n",
       "      <td>1.0000000000</td>\n",
       "      <td>N</td>\n",
       "      <td>161.0000000000</td>\n",
       "      <td>141.0000000000</td>\n",
       "      <td>2.0000000000</td>\n",
       "      <td>9.3000000000</td>\n",
       "      <td>1.0000000000</td>\n",
       "      <td>0.5000000000</td>\n",
       "      <td>0.0000000000</td>\n",
       "      <td>0.0000000000</td>\n",
       "      <td>1.0000000000</td>\n",
       "      <td>14.3000000000</td>\n",
       "      <td>2.5000000000</td>\n",
       "      <td>0.0000000000</td>\n",
       "      <td>January</td>\n",
       "    </tr>\n",
       "    <tr>\n",
       "      <th>1</th>\n",
       "      <td>2.0000000000</td>\n",
       "      <td>2023-01-01 00:55:08</td>\n",
       "      <td>2023-01-01 01:01:27</td>\n",
       "      <td>1.0000000000</td>\n",
       "      <td>1.1000000000</td>\n",
       "      <td>1.0000000000</td>\n",
       "      <td>N</td>\n",
       "      <td>43.0000000000</td>\n",
       "      <td>237.0000000000</td>\n",
       "      <td>1.0000000000</td>\n",
       "      <td>7.9000000000</td>\n",
       "      <td>1.0000000000</td>\n",
       "      <td>0.5000000000</td>\n",
       "      <td>4.0000000000</td>\n",
       "      <td>0.0000000000</td>\n",
       "      <td>1.0000000000</td>\n",
       "      <td>16.9000000000</td>\n",
       "      <td>2.5000000000</td>\n",
       "      <td>0.0000000000</td>\n",
       "      <td>January</td>\n",
       "    </tr>\n",
       "    <tr>\n",
       "      <th>2</th>\n",
       "      <td>2.0000000000</td>\n",
       "      <td>2023-01-01 00:25:04</td>\n",
       "      <td>2023-01-01 00:37:49</td>\n",
       "      <td>1.0000000000</td>\n",
       "      <td>2.5100000000</td>\n",
       "      <td>1.0000000000</td>\n",
       "      <td>N</td>\n",
       "      <td>48.0000000000</td>\n",
       "      <td>238.0000000000</td>\n",
       "      <td>1.0000000000</td>\n",
       "      <td>14.9000000000</td>\n",
       "      <td>1.0000000000</td>\n",
       "      <td>0.5000000000</td>\n",
       "      <td>15.0000000000</td>\n",
       "      <td>0.0000000000</td>\n",
       "      <td>1.0000000000</td>\n",
       "      <td>34.9000000000</td>\n",
       "      <td>2.5000000000</td>\n",
       "      <td>0.0000000000</td>\n",
       "      <td>January</td>\n",
       "    </tr>\n",
       "    <tr>\n",
       "      <th>3</th>\n",
       "      <td>1.0000000000</td>\n",
       "      <td>2023-01-01 00:03:48</td>\n",
       "      <td>2023-01-01 00:13:25</td>\n",
       "      <td>0.0000000000</td>\n",
       "      <td>1.9000000000</td>\n",
       "      <td>1.0000000000</td>\n",
       "      <td>N</td>\n",
       "      <td>138.0000000000</td>\n",
       "      <td>7.0000000000</td>\n",
       "      <td>1.0000000000</td>\n",
       "      <td>12.1000000000</td>\n",
       "      <td>7.2500000000</td>\n",
       "      <td>0.5000000000</td>\n",
       "      <td>0.0000000000</td>\n",
       "      <td>0.0000000000</td>\n",
       "      <td>1.0000000000</td>\n",
       "      <td>20.8500000000</td>\n",
       "      <td>0.0000000000</td>\n",
       "      <td>1.2500000000</td>\n",
       "      <td>January</td>\n",
       "    </tr>\n",
       "    <tr>\n",
       "      <th>4</th>\n",
       "      <td>2.0000000000</td>\n",
       "      <td>2023-01-01 00:10:29</td>\n",
       "      <td>2023-01-01 00:21:19</td>\n",
       "      <td>1.0000000000</td>\n",
       "      <td>1.4300000000</td>\n",
       "      <td>1.0000000000</td>\n",
       "      <td>N</td>\n",
       "      <td>107.0000000000</td>\n",
       "      <td>79.0000000000</td>\n",
       "      <td>1.0000000000</td>\n",
       "      <td>11.4000000000</td>\n",
       "      <td>1.0000000000</td>\n",
       "      <td>0.5000000000</td>\n",
       "      <td>3.2800000000</td>\n",
       "      <td>0.0000000000</td>\n",
       "      <td>1.0000000000</td>\n",
       "      <td>19.6800000000</td>\n",
       "      <td>2.5000000000</td>\n",
       "      <td>0.0000000000</td>\n",
       "      <td>January</td>\n",
       "    </tr>\n",
       "  </tbody>\n",
       "</table>\n",
       "</div>"
      ],
      "text/plain": [
       "      VendorID tpep_pickup_datetime tpep_dropoff_datetime  passenger_count  \\\n",
       "0 2.0000000000  2023-01-01 00:32:10   2023-01-01 00:40:36     1.0000000000   \n",
       "1 2.0000000000  2023-01-01 00:55:08   2023-01-01 01:01:27     1.0000000000   \n",
       "2 2.0000000000  2023-01-01 00:25:04   2023-01-01 00:37:49     1.0000000000   \n",
       "3 1.0000000000  2023-01-01 00:03:48   2023-01-01 00:13:25     0.0000000000   \n",
       "4 2.0000000000  2023-01-01 00:10:29   2023-01-01 00:21:19     1.0000000000   \n",
       "\n",
       "   trip_distance   RatecodeID store_and_fwd_flag   PULocationID  \\\n",
       "0   0.9700000000 1.0000000000                  N 161.0000000000   \n",
       "1   1.1000000000 1.0000000000                  N  43.0000000000   \n",
       "2   2.5100000000 1.0000000000                  N  48.0000000000   \n",
       "3   1.9000000000 1.0000000000                  N 138.0000000000   \n",
       "4   1.4300000000 1.0000000000                  N 107.0000000000   \n",
       "\n",
       "    DOLocationID  payment_type   fare_amount        extra      mta_tax  \\\n",
       "0 141.0000000000  2.0000000000  9.3000000000 1.0000000000 0.5000000000   \n",
       "1 237.0000000000  1.0000000000  7.9000000000 1.0000000000 0.5000000000   \n",
       "2 238.0000000000  1.0000000000 14.9000000000 1.0000000000 0.5000000000   \n",
       "3   7.0000000000  1.0000000000 12.1000000000 7.2500000000 0.5000000000   \n",
       "4  79.0000000000  1.0000000000 11.4000000000 1.0000000000 0.5000000000   \n",
       "\n",
       "     tip_amount  tolls_amount  improvement_surcharge  total_amount  \\\n",
       "0  0.0000000000  0.0000000000           1.0000000000 14.3000000000   \n",
       "1  4.0000000000  0.0000000000           1.0000000000 16.9000000000   \n",
       "2 15.0000000000  0.0000000000           1.0000000000 34.9000000000   \n",
       "3  0.0000000000  0.0000000000           1.0000000000 20.8500000000   \n",
       "4  3.2800000000  0.0000000000           1.0000000000 19.6800000000   \n",
       "\n",
       "   congestion_surcharge  Airport_fee  dataset  \n",
       "0          2.5000000000 0.0000000000  January  \n",
       "1          2.5000000000 0.0000000000  January  \n",
       "2          2.5000000000 0.0000000000  January  \n",
       "3          0.0000000000 1.2500000000  January  \n",
       "4          2.5000000000 0.0000000000  January  "
      ]
     },
     "execution_count": 9,
     "metadata": {},
     "output_type": "execute_result"
    }
   ],
   "source": [
    "data.head()"
   ]
  },
  {
   "cell_type": "code",
   "execution_count": 10,
   "metadata": {},
   "outputs": [],
   "source": [
    "data['duration'] = (data['tpep_dropoff_datetime'] - data['tpep_pickup_datetime']).dt.total_seconds()"
   ]
  },
  {
   "cell_type": "code",
   "execution_count": 11,
   "metadata": {},
   "outputs": [],
   "source": [
    "data['duration'] = data['duration'] / 60"
   ]
  },
  {
   "cell_type": "code",
   "execution_count": 12,
   "metadata": {},
   "outputs": [],
   "source": [
    "data['month'] = data['tpep_pickup_datetime'].dt.month_name()"
   ]
  },
  {
   "cell_type": "code",
   "execution_count": 13,
   "metadata": {},
   "outputs": [],
   "source": [
    "data['year'] = data['tpep_pickup_datetime'].dt.year"
   ]
  },
  {
   "cell_type": "code",
   "execution_count": 14,
   "metadata": {},
   "outputs": [
    {
     "data": {
      "text/plain": [
       "count   5980721.0000000000\n",
       "mean         15.8380204577\n",
       "std          42.7155893007\n",
       "min         -43.6166666667\n",
       "50%          11.6500000000\n",
       "95%          36.8333333333\n",
       "98%          49.3000000000\n",
       "99%          58.0333333333\n",
       "max       10029.1833333333\n",
       "Name: duration, dtype: float64"
      ]
     },
     "execution_count": 14,
     "metadata": {},
     "output_type": "execute_result"
    }
   ],
   "source": [
    "data.duration.describe(percentiles = [0.95, 0.98, 0.99])"
   ]
  },
  {
   "cell_type": "code",
   "execution_count": 15,
   "metadata": {},
   "outputs": [],
   "source": [
    "upper_bound = data.duration.quantile(0.99)"
   ]
  },
  {
   "cell_type": "code",
   "execution_count": 23,
   "metadata": {},
   "outputs": [
    {
     "name": "stderr",
     "output_type": "stream",
     "text": [
      "/home/ubuntu/mlops-zoomcamp/.venv/lib/python3.12/site-packages/plotnine/layer.py:284: PlotnineWarning: stat_bin : Removed 279 rows containing non-finite values.\n",
      "/home/ubuntu/mlops-zoomcamp/.venv/lib/python3.12/site-packages/plotnine/layer.py:364: PlotnineWarning: geom_histogram : Removed 8 rows containing missing values.\n"
     ]
    },
    {
     "data": {
      "image/png": "[encoded data removed]"
     },
     "metadata": {
      "image/png": {
       "height": 480,
       "width": 640
      }
     },
     "output_type": "display_data"
    }
   ],
   "source": [
    "filtered_data = data[data['duration'] <= upper_bound]\n",
    "\n",
    "(\n",
    "    plt.ggplot(filtered_data, plt.aes(x = \"duration\", fill = \"month\")) + \n",
    "    plt.geom_histogram(binwidth = 1,\n",
    "                       color = \"black\") +\n",
    "    plt.labs(title = \"Trip Duration by Dataset\",\n",
    "       x = \"Duration\",\n",
    "       y = \"Frequency\") +\n",
    "    plt.xlim(0, None) +\n",
    "    plt.scale_fill_brewer(type='seq', palette='Blues') +\n",
    "    plt.facet_wrap('~dataset')\n",
    ")"
   ]
  },
  {
   "cell_type": "markdown",
   "metadata": {},
   "source": [
    "It seems there are some records that do not correspond to the dataset's timeframe. Let's see how many of them are:"
   ]
  },
  {
   "cell_type": "code",
   "execution_count": 25,
   "metadata": {},
   "outputs": [
    {
     "name": "stdout",
     "output_type": "stream",
     "text": [
      "84 records do not match the dataset months\n"
     ]
    }
   ],
   "source": [
    "print(f'{len(data[~data['month'].isin(['January', 'February'])])} records do not match the dataset months')"
   ]
  },
  {
   "cell_type": "code",
   "execution_count": 28,
   "metadata": {},
   "outputs": [
    {
     "name": "stdout",
     "output_type": "stream",
     "text": [
      "43 records do not match the dataset year\n"
     ]
    }
   ],
   "source": [
    "print(f'{len(data[data['year'] != 2023])} records do not match the dataset year')"
   ]
  },
  {
   "cell_type": "code",
   "execution_count": 34,
   "metadata": {},
   "outputs": [
    {
     "data": {
      "text/plain": [
       "42.59434429744777"
      ]
     },
     "execution_count": 34,
     "metadata": {},
     "output_type": "execute_result"
    }
   ],
   "source": [
    "np.std(data[data['dataset'] == 'January']['duration'])"
   ]
  },
  {
   "cell_type": "code",
   "execution_count": 35,
   "metadata": {},
   "outputs": [],
   "source": [
    "jan_durations = data[data['dataset'] == 'January']['duration']\n",
    "jan_durations_filter = (jan_durations >= 1) & (jan_durations <= 60)"
   ]
  },
  {
   "cell_type": "code",
   "execution_count": 36,
   "metadata": {},
   "outputs": [
    {
     "data": {
      "text/plain": [
       "0.9812202822125979"
      ]
     },
     "execution_count": 36,
     "metadata": {},
     "output_type": "execute_result"
    }
   ],
   "source": [
    "np.mean(jan_durations_filter)"
   ]
  },
  {
   "cell_type": "code",
   "execution_count": 37,
   "metadata": {},
   "outputs": [],
   "source": [
    "train_df = data[data['dataset'] == 'January'][jan_durations_filter]"
   ]
  },
  {
   "cell_type": "code",
   "execution_count": 38,
   "metadata": {},
   "outputs": [],
   "source": [
    "categorical = ['PULocationID', 'DOLocationID']\n",
    "numerical = ['trip_distance']"
   ]
  },
  {
   "cell_type": "code",
   "execution_count": 39,
   "metadata": {},
   "outputs": [],
   "source": [
    "train_df[categorical]= train_df[categorical].astype(str)\n"
   ]
  },
  {
   "cell_type": "code",
   "execution_count": 40,
   "metadata": {},
   "outputs": [],
   "source": [
    "train_dicts = train_df[categorical + numerical].to_dict(orient='records')"
   ]
  },
  {
   "cell_type": "code",
   "execution_count": 41,
   "metadata": {},
   "outputs": [],
   "source": [
    "dv = DictVectorizer()\n",
    "X_train = dv.fit_transform(train_dicts)"
   ]
  },
  {
   "cell_type": "code",
   "execution_count": 42,
   "metadata": {},
   "outputs": [
    {
     "data": {
      "text/plain": [
       "(3009173, 516)"
      ]
     },
     "execution_count": 42,
     "metadata": {},
     "output_type": "execute_result"
    }
   ],
   "source": [
    "X_train.shape"
   ]
  },
  {
   "cell_type": "code",
   "execution_count": 43,
   "metadata": {},
   "outputs": [
    {
     "data": {
      "text/plain": [
       "(3009173, 516)"
      ]
     },
     "execution_count": 43,
     "metadata": {},
     "output_type": "execute_result"
    }
   ],
   "source": [
    "X_train.shape"
   ]
  },
  {
   "cell_type": "code",
   "execution_count": 44,
   "metadata": {},
   "outputs": [
    {
     "data": {
      "text/plain": [
       "7.656752078217351"
      ]
     },
     "execution_count": 44,
     "metadata": {},
     "output_type": "execute_result"
    }
   ],
   "source": [
    "target = 'duration'\n",
    "y_train = train_df[target].values\n",
    "\n",
    "lr = LinearRegression()\n",
    "lr.fit(X_train, y_train)\n",
    "\n",
    "y_pred = lr.predict(X_train)\n",
    "\n",
    "root_mean_squared_error(y_train, y_pred)"
   ]
  },
  {
   "cell_type": "code",
   "execution_count": 45,
   "metadata": {},
   "outputs": [],
   "source": [
    "def create_prediction_real_df(real_values, predictions):\n",
    "    df_real = pd.DataFrame({'value': real_values, 'label': 'real'})\n",
    "    df_predictions = pd.DataFrame({'value': predictions, 'label': 'prediction'})\n",
    "    df = pd.concat([df_real, df_predictions], ignore_index=True)\n",
    "    return df\n",
    "\n",
    "preds = create_prediction_real_df(y_train, y_pred)"
   ]
  },
  {
   "cell_type": "code",
   "execution_count": 46,
   "metadata": {},
   "outputs": [
    {
     "data": {
      "image/png": "[encoded data removed]"
     },
     "metadata": {
      "image/png": {
       "height": 480,
       "width": 640
      }
     },
     "output_type": "display_data"
    }
   ],
   "source": [
    "(\n",
    "    plt.ggplot(preds, plt.aes(x='value', color='label')) +\n",
    "    plt.geom_histogram(plt.aes(y='..density..'), alpha=0.5, binwidth = 1, position='identity')\n",
    ")"
   ]
  },
  {
   "cell_type": "code",
   "execution_count": 47,
   "metadata": {},
   "outputs": [],
   "source": [
    "def feats(data, month, categorical=['PULocationID', 'DOLocationID'],\n",
    "          numerical=['trip_distance'], dv=None, target='duration'):\n",
    "    df = data[data['dataset'] == month]\n",
    "    durations_filter = (df['duration'] > 1) & (df['duration'] <= 60)\n",
    "    print(f'Filtering out {sum(~durations_filter)} trips whose duration is not within (1, 60] minutes.')\n",
    "    filtered_df = df[durations_filter].copy()\n",
    "    # \n",
    "    filtered_df[categorical] = filtered_df[categorical].astype(str)\n",
    "    dicts = filtered_df[categorical + numerical].to_dict(orient='records')\n",
    "    \n",
    "    y = filtered_df[target].values\n",
    "    \n",
    "    if dv:\n",
    "        X = dv.transform(dicts)\n",
    "        return X, y\n",
    "    else:\n",
    "        dv = DictVectorizer()\n",
    "        X = dv.fit_transform(dicts)\n",
    "        return X, y, dv"
   ]
  },
  {
   "cell_type": "code",
   "execution_count": 48,
   "metadata": {},
   "outputs": [
    {
     "name": "stdout",
     "output_type": "stream",
     "text": [
      "Filtering out 58325 trips whose duration is not within (1, 60] minutes.\n"
     ]
    }
   ],
   "source": [
    "X_val, y_val = feats(data, 'February', dv=dv)"
   ]
  },
  {
   "cell_type": "code",
   "execution_count": 49,
   "metadata": {},
   "outputs": [
    {
     "data": {
      "text/plain": [
       "7.817100705560177"
      ]
     },
     "execution_count": 49,
     "metadata": {},
     "output_type": "execute_result"
    }
   ],
   "source": [
    "y_val_pred = lr.predict(X_val)\n",
    "\n",
    "root_mean_squared_error(y_val, y_val_pred)"
   ]
  },
  {
   "cell_type": "code",
   "execution_count": null,
   "metadata": {},
   "outputs": [],
   "source": [
    "with open('models/lin_reg.bin', 'wb') as f_out:\n",
    "    pickle.dump((dv, lr), f_out)"
   ]
  },
  {
   "cell_type": "code",
   "execution_count": null,
   "metadata": {},
   "outputs": [],
   "source": []
  }
 ],
 "metadata": {
  "kernelspec": {
   "display_name": "Python 3 (ipykernel)",
   "language": "python",
   "name": "python3"
  },
  "language_info": {
   "codemirror_mode": {
    "name": "ipython",
    "version": 3
   },
   "file_extension": ".py",
   "mimetype": "text/x-python",
   "name": "python",
   "nbconvert_exporter": "python",
   "pygments_lexer": "ipython3",
   "version": "3.12.3"
  }
 },
 "nbformat": 4,
 "nbformat_minor": 4
}
