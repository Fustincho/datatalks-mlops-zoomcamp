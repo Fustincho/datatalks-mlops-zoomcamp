{
 "cells": [
  {
   "cell_type": "code",
   "execution_count": 1,
   "metadata": {},
   "outputs": [],
   "source": [
    "# Data Retrieval and Handling\n",
    "import os\n",
    "import pandas as pd\n",
    "import psycopg\n",
    "\n",
    "# Utility Functions and Miscellaneous\n",
    "from scipy import stats\n",
    "from functools import reduce\n",
    "\n",
    "# Machine Learning\n",
    "import xgboost as xgb\n",
    "\n",
    "# Data Preprocessing\n",
    "from sklearn.impute import KNNImputer\n",
    "\n",
    "# Hyperparameter Optimization\n",
    "import optuna\n",
    "\n",
    "# Experiment Tracking and Model Management\n",
    "import mlflow\n",
    "import mlflow.pyfunc\n",
    "from mlflow import MlflowClient\n",
    "\n",
    "# Saving and Loading Models\n",
    "import pickle"
   ]
  },
  {
   "cell_type": "code",
   "execution_count": 2,
   "metadata": {},
   "outputs": [
    {
     "data": {
      "text/html": [
       "<div>\n",
       "<style scoped>\n",
       "    .dataframe tbody tr th:only-of-type {\n",
       "        vertical-align: middle;\n",
       "    }\n",
       "\n",
       "    .dataframe tbody tr th {\n",
       "        vertical-align: top;\n",
       "    }\n",
       "\n",
       "    .dataframe thead th {\n",
       "        text-align: right;\n",
       "    }\n",
       "</style>\n",
       "<table border=\"1\" class=\"dataframe\">\n",
       "  <thead>\n",
       "    <tr style=\"text-align: right;\">\n",
       "      <th></th>\n",
       "      <th>datetime</th>\n",
       "      <th>sid_20466</th>\n",
       "      <th>sid_34845</th>\n",
       "      <th>sid_34841</th>\n",
       "      <th>sid_35394</th>\n",
       "      <th>sid_35577</th>\n",
       "      <th>sid_35843</th>\n",
       "      <th>sid_36047</th>\n",
       "      <th>sid_36066</th>\n",
       "      <th>sid_36064</th>\n",
       "      <th>sid_36092</th>\n",
       "      <th>sid_35606</th>\n",
       "    </tr>\n",
       "  </thead>\n",
       "  <tbody>\n",
       "    <tr>\n",
       "      <th>0</th>\n",
       "      <td>2022-01-01 00:00:00+00:00</td>\n",
       "      <td>9.9</td>\n",
       "      <td>0.016</td>\n",
       "      <td>20.0</td>\n",
       "      <td>0.010</td>\n",
       "      <td>15.0</td>\n",
       "      <td>41.0</td>\n",
       "      <td>14.0</td>\n",
       "      <td>41.0</td>\n",
       "      <td>19.0</td>\n",
       "      <td>21.0</td>\n",
       "      <td>26.0</td>\n",
       "    </tr>\n",
       "    <tr>\n",
       "      <th>1</th>\n",
       "      <td>2022-01-01 01:00:00+00:00</td>\n",
       "      <td>14.0</td>\n",
       "      <td>0.014</td>\n",
       "      <td>20.0</td>\n",
       "      <td>0.011</td>\n",
       "      <td>18.0</td>\n",
       "      <td>35.0</td>\n",
       "      <td>12.0</td>\n",
       "      <td>36.0</td>\n",
       "      <td>30.0</td>\n",
       "      <td>36.0</td>\n",
       "      <td>55.0</td>\n",
       "    </tr>\n",
       "    <tr>\n",
       "      <th>2</th>\n",
       "      <td>2022-01-01 02:00:00+00:00</td>\n",
       "      <td>25.0</td>\n",
       "      <td>0.013</td>\n",
       "      <td>23.0</td>\n",
       "      <td>0.011</td>\n",
       "      <td>24.0</td>\n",
       "      <td>34.0</td>\n",
       "      <td>16.0</td>\n",
       "      <td>46.0</td>\n",
       "      <td>28.0</td>\n",
       "      <td>32.0</td>\n",
       "      <td>39.0</td>\n",
       "    </tr>\n",
       "    <tr>\n",
       "      <th>3</th>\n",
       "      <td>2022-01-01 03:00:00+00:00</td>\n",
       "      <td>27.0</td>\n",
       "      <td>0.011</td>\n",
       "      <td>27.0</td>\n",
       "      <td>0.011</td>\n",
       "      <td>39.0</td>\n",
       "      <td>39.0</td>\n",
       "      <td>20.0</td>\n",
       "      <td>48.0</td>\n",
       "      <td>32.0</td>\n",
       "      <td>54.0</td>\n",
       "      <td>33.0</td>\n",
       "    </tr>\n",
       "    <tr>\n",
       "      <th>4</th>\n",
       "      <td>2022-01-01 04:00:00+00:00</td>\n",
       "      <td>26.0</td>\n",
       "      <td>0.012</td>\n",
       "      <td>27.0</td>\n",
       "      <td>0.012</td>\n",
       "      <td>33.0</td>\n",
       "      <td>37.0</td>\n",
       "      <td>29.0</td>\n",
       "      <td>40.0</td>\n",
       "      <td>33.0</td>\n",
       "      <td>84.0</td>\n",
       "      <td>31.0</td>\n",
       "    </tr>\n",
       "  </tbody>\n",
       "</table>\n",
       "</div>"
      ],
      "text/plain": [
       "                   datetime  sid_20466  sid_34845  sid_34841  sid_35394  \\\n",
       "0 2022-01-01 00:00:00+00:00        9.9      0.016       20.0      0.010   \n",
       "1 2022-01-01 01:00:00+00:00       14.0      0.014       20.0      0.011   \n",
       "2 2022-01-01 02:00:00+00:00       25.0      0.013       23.0      0.011   \n",
       "3 2022-01-01 03:00:00+00:00       27.0      0.011       27.0      0.011   \n",
       "4 2022-01-01 04:00:00+00:00       26.0      0.012       27.0      0.012   \n",
       "\n",
       "   sid_35577  sid_35843  sid_36047  sid_36066  sid_36064  sid_36092  sid_35606  \n",
       "0       15.0       41.0       14.0       41.0       19.0       21.0       26.0  \n",
       "1       18.0       35.0       12.0       36.0       30.0       36.0       55.0  \n",
       "2       24.0       34.0       16.0       46.0       28.0       32.0       39.0  \n",
       "3       39.0       39.0       20.0       48.0       32.0       54.0       33.0  \n",
       "4       33.0       37.0       29.0       40.0       33.0       84.0       31.0  "
      ]
     },
     "execution_count": 2,
     "metadata": {},
     "output_type": "execute_result"
    }
   ],
   "source": [
    "conn_params = {\n",
    "    'host': 'localhost',\n",
    "    'port': '5433',\n",
    "    'dbname': 'aq_data',\n",
    "    'user': 'postgres',\n",
    "    'password': 'magedb_password',\n",
    "}\n",
    "\n",
    "with psycopg.connect(**conn_params) as conn:\n",
    "    with conn.cursor() as cur:\n",
    "        cur.execute(\"SELECT * FROM public.original_data\")\n",
    "        \n",
    "        results = cur.fetchall()\n",
    "        \n",
    "        colnames = [desc.name for desc in cur.description]\n",
    "        \n",
    "        dataset = pd.DataFrame(results, columns=colnames)\n",
    "\n",
    "dataset.head()"
   ]
  },
  {
   "cell_type": "code",
   "execution_count": 3,
   "metadata": {},
   "outputs": [],
   "source": [
    "dataset = dataset[~dataset[\"sid_35606\"].isna()]"
   ]
  },
  {
   "cell_type": "code",
   "execution_count": 4,
   "metadata": {},
   "outputs": [],
   "source": [
    "dataset.drop(columns=\"datetime\", inplace=True)\n",
    "z_scores = dataset.apply(stats.zscore)\n",
    "threshold = 3\n",
    "\n",
    "masks = []\n",
    "for col in dataset.columns:\n",
    "    masks.append(abs(z_scores[col]) > threshold)\n",
    "\n",
    "mask = reduce(lambda x, y: x | y, masks)\n",
    "\n",
    "dataset = dataset[~mask]"
   ]
  },
  {
   "cell_type": "code",
   "execution_count": 5,
   "metadata": {},
   "outputs": [],
   "source": [
    "X = dataset[\n",
    "    [\n",
    "        \"sid_20466\",\n",
    "        \"sid_34845\",\n",
    "        \"sid_34841\",\n",
    "        \"sid_35394\",\n",
    "        \"sid_35577\",\n",
    "        \"sid_35843\",\n",
    "        \"sid_36047\",\n",
    "        \"sid_36066\",\n",
    "        \"sid_36064\",\n",
    "        \"sid_36092\",\n",
    "    ]\n",
    "]\n",
    "\n",
    "y = dataset[\"sid_35606\"]\n",
    "\n",
    "imputer = KNNImputer(n_neighbors=5)\n",
    "X_imputed = imputer.fit_transform(X)\n",
    "\n",
    "imputer_path = \"./artifacts/imputer.pkl\"\n",
    "with open(imputer_path, \"wb\") as f:\n",
    "    pickle.dump(imputer, f)"
   ]
  },
  {
   "cell_type": "code",
   "execution_count": 6,
   "metadata": {},
   "outputs": [],
   "source": [
    "os.environ['AWS_ACCESS_KEY_ID'] = 'test'\n",
    "os.environ['AWS_SECRET_ACCESS_KEY'] = 'test'\n",
    "os.environ['AWS_DEFAULT_REGION'] = 'us-east-1'\n",
    "os.environ['MLFLOW_S3_ENDPOINT_URL'] = 'http://localhost:4566'"
   ]
  },
  {
   "cell_type": "code",
   "execution_count": 7,
   "metadata": {},
   "outputs": [],
   "source": [
    "class ImputerAndXGBoost(mlflow.pyfunc.PythonModel):\n",
    "    def load_context(self, context):\n",
    "        # Load the KNN imputer\n",
    "        with open(context.artifacts[\"imputer\"], \"rb\") as f:\n",
    "            self.imputer = pickle.load(f)\n",
    "        # Load the XGBoost model\n",
    "        self.xgboost_model = xgb.Booster()\n",
    "        self.xgboost_model.load_model(context.artifacts[\"xgboost_model\"])\n",
    "        \n",
    "    def predict(self, context, model_input):\n",
    "        # Impute missing values\n",
    "        imputed = self.imputer.transform(model_input)\n",
    "        dmatrix = xgb.DMatrix(imputed)\n",
    "        # Make predictions\n",
    "        return self.xgboost_model.predict(dmatrix)"
   ]
  },
  {
   "cell_type": "code",
   "execution_count": 8,
   "metadata": {},
   "outputs": [
    {
     "name": "stderr",
     "output_type": "stream",
     "text": [
      "2024/08/01 15:12:24 INFO mlflow.tracking.fluent: Experiment with name 'local_testing' does not exist. Creating a new experiment.\n"
     ]
    }
   ],
   "source": [
    "mlflow.set_tracking_uri(\"http://localhost:5000\")\n",
    "mlflow.set_experiment(\"local_testing\")\n",
    "\n",
    "dtrain = xgb.DMatrix(X_imputed, label=y)\n",
    "\n",
    "def objective(trial):\n",
    "    param = {\n",
    "        \"verbosity\": 0,\n",
    "        \"booster\": trial.suggest_categorical(\"booster\", [\"gbtree\", \"gblinear\", \"dart\"]),\n",
    "        \"validate_parameters\": True,\n",
    "        \"objective\": \"reg:squarederror\",\n",
    "        \"tree_method\": \"auto\",\n",
    "        \"lambda\": trial.suggest_float(\"lambda\", 1e-8, 1.0, log=True),\n",
    "        \"alpha\": trial.suggest_float(\"alpha\", 1e-8, 1.0, log=True),\n",
    "        \"subsample\": trial.suggest_float(\"subsample\", 0.2, 1.0),\n",
    "        \"colsample_bytree\": trial.suggest_float(\"colsample_bytree\", 0.2, 1.0),\n",
    "        \"max_depth\": trial.suggest_int(\"max_depth\", 3, 9, step=2),\n",
    "        \"n_estimators\": trial.suggest_int(\"n_estimators\", 100, 300),\n",
    "    }\n",
    "\n",
    "    if param[\"booster\"] in [\"gbtree\", \"dart\"]:\n",
    "        param[\"eta\"] = trial.suggest_float(\"eta\", 1e-8, 1.0, log=True)\n",
    "        param[\"max_depth\"] = trial.suggest_int(\"max_depth\", 3, 9, step=2)\n",
    "        param[\"min_child_weight\"] = trial.suggest_int(\"min_child_weight\", 2, 10)\n",
    "        param[\"gamma\"] = trial.suggest_float(\"gamma\", 1e-8, 1.0, log=True)\n",
    "        param[\"grow_policy\"] = trial.suggest_categorical(\"grow_policy\", [\"depthwise\", \"lossguide\"])\n",
    "\n",
    "    if param[\"booster\"] == \"dart\":\n",
    "        param[\"sample_type\"] = trial.suggest_categorical(\"sample_type\", [\"uniform\", \"weighted\"])\n",
    "        param[\"normalize_type\"] = trial.suggest_categorical(\"normalize_type\", [\"tree\", \"forest\"])\n",
    "        param[\"rate_drop\"] = trial.suggest_float(\"rate_drop\", 1e-8, 1.0, log=True)\n",
    "        param[\"skip_drop\"] = trial.suggest_float(\"skip_drop\", 1e-8, 1.0, log=True)\n",
    "    \n",
    "    with mlflow.start_run():\n",
    "        mlflow.log_params(param)\n",
    "        \n",
    "        # Cross-validation\n",
    "        cv_results = xgb.cv(\n",
    "            dtrain=dtrain,\n",
    "            params=param,\n",
    "            nfold=5,  # Number of folds\n",
    "            num_boost_round=200,  # Maximum number of boosting rounds\n",
    "            early_stopping_rounds=10,  # Stop if no improvement after these rounds\n",
    "            metrics='rmse',  # Metric to evaluate\n",
    "            seed=1020\n",
    "        )\n",
    "        \n",
    "        # Extract the best RMSE and corresponding number of rounds\n",
    "        best_rmse = cv_results['test-rmse-mean'].min()\n",
    "        best_rounds = cv_results['test-rmse-mean'].idxmin()\n",
    "        \n",
    "        mlflow.log_metric(\"best_rmse\", best_rmse)\n",
    "        mlflow.log_metric(\"best_rounds\", best_rounds)\n",
    "\n",
    "        # Train the model with the best number of rounds on the full training data\n",
    "        final_model = xgb.train(param, dtrain, num_boost_round=best_rounds)\n",
    "\n",
    "        xgboost_model_path = \"xgboost_model.json\"\n",
    "        final_model.save_model(xgboost_model_path)\n",
    "\n",
    "        # Log the XGBoost model and the imputer as artifacts\n",
    "        mlflow.pyfunc.log_model(\n",
    "            artifact_path=\"model\",\n",
    "            python_model=ImputerAndXGBoost(),\n",
    "            artifacts={\n",
    "                \"imputer\": imputer_path,\n",
    "                \"xgboost_model\": xgboost_model_path,\n",
    "            }\n",
    "        )\n",
    "\n",
    "    return best_rmse\n"
   ]
  },
  {
   "cell_type": "code",
   "execution_count": 9,
   "metadata": {},
   "outputs": [
    {
     "data": {
      "application/vnd.jupyter.widget-view+json": {
       "model_id": "4535dd4725f342baad074ad4cdcc3e28",
       "version_major": 2,
       "version_minor": 0
      },
      "text/plain": [
       "Downloading artifacts:   0%|          | 0/1 [00:00<?, ?it/s]"
      ]
     },
     "metadata": {},
     "output_type": "display_data"
    },
    {
     "data": {
      "application/vnd.jupyter.widget-view+json": {
       "model_id": "65842a417a0440ceb9ac139dc52c9e99",
       "version_major": 2,
       "version_minor": 0
      },
      "text/plain": [
       "Downloading artifacts:   0%|          | 0/1 [00:00<?, ?it/s]"
      ]
     },
     "metadata": {},
     "output_type": "display_data"
    },
    {
     "name": "stdout",
     "output_type": "stream",
     "text": [
      "Best trial:\n",
      "  RMSE: 16.4755\n",
      "  Parameters: \n",
      "    booster: gbtree\n",
      "    lambda: 0.016276554931958193\n",
      "    alpha: 4.991135228007095e-08\n",
      "    subsample: 0.850066910470654\n",
      "    colsample_bytree: 0.9711565765798214\n",
      "    max_depth: 5\n",
      "    n_estimators: 204\n",
      "    eta: 9.999267214174526e-06\n",
      "    min_child_weight: 3\n",
      "    gamma: 3.779986942083264e-07\n",
      "    grow_policy: depthwise\n"
     ]
    }
   ],
   "source": [
    "optuna.logging.set_verbosity(optuna.logging.WARNING)\n",
    "\n",
    "study = optuna.create_study(direction=\"minimize\")\n",
    "study.optimize(objective, n_trials=1, timeout=600)\n",
    "\n",
    "print(\"Best trial:\")\n",
    "trial = study.best_trial\n",
    "\n",
    "print(f\"  RMSE: {trial.value:.4f}\")\n",
    "print(\"  Parameters: \")\n",
    "for key, value in trial.params.items():\n",
    "    print(f\"    {key}: {value}\")\n"
   ]
  },
  {
   "cell_type": "code",
   "execution_count": 10,
   "metadata": {},
   "outputs": [
    {
     "name": "stdout",
     "output_type": "stream",
     "text": [
      "Best hyperparameters:\n",
      "verbosity: 0\n",
      "booster: gbtree\n",
      "validate_parameters: True\n",
      "objective: reg:squarederror\n",
      "tree_method: auto\n",
      "lambda: 0.016276554931958193\n",
      "alpha: 4.991135228007095e-08\n",
      "subsample: 0.850066910470654\n",
      "colsample_bytree: 0.9711565765798214\n",
      "max_depth: 5\n",
      "n_estimators: 204\n",
      "eta: 9.999267214174526e-06\n",
      "min_child_weight: 3\n",
      "gamma: 3.779986942083264e-07\n",
      "grow_policy: depthwise\n"
     ]
    }
   ],
   "source": [
    "client = MlflowClient()\n",
    "\n",
    "experiment = client.get_experiment_by_name(\"local_testing\")\n",
    "\n",
    "experiment_id = experiment.experiment_id\n",
    "\n",
    "runs = client.search_runs(experiment_ids=experiment_id, order_by=[\"metrics.rmse\"], max_results=1)\n",
    "\n",
    "best_run = runs[0].to_dictionary()\n",
    "best_hyperparameters = best_run['data']['params']\n",
    "\n",
    "print(\"Best hyperparameters:\")\n",
    "for param_name, param_value in best_hyperparameters.items():\n",
    "    print(f\"{param_name}: {param_value}\")"
   ]
  },
  {
   "cell_type": "code",
   "execution_count": 11,
   "metadata": {},
   "outputs": [
    {
     "data": {
      "text/plain": [
       "<RegisteredModel: aliases={}, creation_timestamp=1722543151016, description='', last_updated_timestamp=1722543151016, latest_versions=[], name='openaq-medellin-35606-xgboost-imputer', tags={}>"
      ]
     },
     "execution_count": 11,
     "metadata": {},
     "output_type": "execute_result"
    }
   ],
   "source": [
    "model_name = \"openaq-medellin-35606-xgboost-imputer\"\n",
    "    \n",
    "client.create_registered_model(model_name)\n"
   ]
  },
  {
   "cell_type": "code",
   "execution_count": 12,
   "metadata": {},
   "outputs": [],
   "source": [
    "client.set_registered_model_tag(model_name, \"task\", \"regression\")"
   ]
  },
  {
   "cell_type": "code",
   "execution_count": 13,
   "metadata": {},
   "outputs": [
    {
     "name": "stderr",
     "output_type": "stream",
     "text": [
      "2024/08/01 15:12:31 INFO mlflow.store.model_registry.abstract_store: Waiting up to 300 seconds for model version to finish creation. Model name: openaq-medellin-35606-xgboost-imputer, version 1\n"
     ]
    }
   ],
   "source": [
    "s3_bucket_name = \"mlflow\"\n",
    "\n",
    "result = client.create_model_version(\n",
    "    name=model_name,\n",
    "    # on log_model we set artifact_path=\"model\"\n",
    "    source=f\"s3://{s3_bucket_name}/{best_run['info']['experiment_id']}/{best_run['info']['run_id']}/artifacts/model\", \n",
    "    run_id=best_run['info']['run_id'],\n",
    ")"
   ]
  },
  {
   "cell_type": "code",
   "execution_count": 14,
   "metadata": {},
   "outputs": [],
   "source": [
    "client.set_registered_model_alias(model_name, \"champion\", result.version)\n",
    "client.set_model_version_tag(model_name, result.version, \"validation_status\", \"approved\")"
   ]
  },
  {
   "cell_type": "code",
   "execution_count": 15,
   "metadata": {},
   "outputs": [
    {
     "data": {
      "text/plain": [
       "<ModelVersion: aliases=['champion'], creation_timestamp=1722543151055, current_stage='None', description='', last_updated_timestamp=1722543151055, name='openaq-medellin-35606-xgboost-imputer', run_id='3e60c7fad8a7435c91836e63efac28c3', run_link='', source='s3://mlflow/1/3e60c7fad8a7435c91836e63efac28c3/artifacts/model', status='READY', status_message='', tags={'validation_status': 'approved'}, user_id='', version='1'>"
      ]
     },
     "execution_count": 15,
     "metadata": {},
     "output_type": "execute_result"
    }
   ],
   "source": [
    "client.get_model_version_by_alias(model_name, \"champion\")"
   ]
  },
  {
   "cell_type": "code",
   "execution_count": 16,
   "metadata": {},
   "outputs": [
    {
     "data": {
      "application/vnd.jupyter.widget-view+json": {
       "model_id": "bda09ac01d4a4c1bb5fda7453412a008",
       "version_major": 2,
       "version_minor": 0
      },
      "text/plain": [
       "Downloading artifacts:   0%|          | 0/7 [00:00<?, ?it/s]"
      ]
     },
     "metadata": {},
     "output_type": "display_data"
    }
   ],
   "source": [
    "model = mlflow.pyfunc.load_model(model_uri=f\"models:/{model_name}/{result.version}\")"
   ]
  },
  {
   "cell_type": "code",
   "execution_count": 18,
   "metadata": {},
   "outputs": [
    {
     "data": {
      "application/vnd.jupyter.widget-view+json": {
       "model_id": "d69e05bd38f045c4b4ccb95fa089c741",
       "version_major": 2,
       "version_minor": 0
      },
      "text/plain": [
       "Downloading artifacts:   0%|          | 0/7 [00:00<?, ?it/s]"
      ]
     },
     "metadata": {},
     "output_type": "display_data"
    }
   ],
   "source": [
    "model_uri = f\"models:/{model_name}@champion\"\n",
    "model = mlflow.pyfunc.load_model(model_uri)"
   ]
  },
  {
   "cell_type": "code",
   "execution_count": 23,
   "metadata": {},
   "outputs": [
    {
     "data": {
      "text/plain": [
       "array([28.26352, 34.16879], dtype=float32)"
      ]
     },
     "execution_count": 23,
     "metadata": {},
     "output_type": "execute_result"
    }
   ],
   "source": [
    "model.predict(X.iloc[[1,2]])"
   ]
  },
  {
   "cell_type": "code",
   "execution_count": 8,
   "metadata": {},
   "outputs": [
    {
     "data": {
      "text/plain": [
       "Index(['sid_20466', 'sid_34845', 'sid_34841', 'sid_35394', 'sid_35577',\n",
       "       'sid_35843', 'sid_36047', 'sid_36066', 'sid_36064', 'sid_36092'],\n",
       "      dtype='object')"
      ]
     },
     "execution_count": 8,
     "metadata": {},
     "output_type": "execute_result"
    }
   ],
   "source": [
    "X.columns"
   ]
  },
  {
   "cell_type": "code",
   "execution_count": 9,
   "metadata": {},
   "outputs": [
    {
     "data": {
      "text/plain": [
       "0        26.0\n",
       "1        55.0\n",
       "2        39.0\n",
       "3        33.0\n",
       "4        31.0\n",
       "         ... \n",
       "16671    24.0\n",
       "16672    23.0\n",
       "16673    19.0\n",
       "16674     9.0\n",
       "16675     8.0\n",
       "Name: sid_35606, Length: 15330, dtype: float64"
      ]
     },
     "execution_count": 9,
     "metadata": {},
     "output_type": "execute_result"
    }
   ],
   "source": [
    "y"
   ]
  },
  {
   "cell_type": "code",
   "execution_count": null,
   "metadata": {},
   "outputs": [],
   "source": []
  }
 ],
 "metadata": {
  "kernelspec": {
   "display_name": ".venv",
   "language": "python",
   "name": "python3"
  },
  "language_info": {
   "codemirror_mode": {
    "name": "ipython",
    "version": 3
   },
   "file_extension": ".py",
   "mimetype": "text/x-python",
   "name": "python",
   "nbconvert_exporter": "python",
   "pygments_lexer": "ipython3",
   "version": "3.12.4"
  }
 },
 "nbformat": 4,
 "nbformat_minor": 2
}
